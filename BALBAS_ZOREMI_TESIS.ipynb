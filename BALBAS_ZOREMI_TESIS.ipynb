{
 "cells": [
  {
   "cell_type": "markdown",
   "id": "b71484f8-a93f-41d9-ab10-9f9e342c4e37",
   "metadata": {},
   "source": [
    "# Título:\n",
    "LIMPIEZA DE DATOS"
   ]
  },
  {
   "cell_type": "markdown",
   "id": "00235e21-323c-46c2-9a9a-685607ff6b51",
   "metadata": {},
   "source": [
    "### ANALISIS EXPLORATORIO DE LOS DATOS\n",
    "\n",
    "En este apartado exploraremos los datos para poder observar sus características."
   ]
  },
  {
   "cell_type": "code",
   "execution_count": 1,
   "id": "3d8bca3f-a9fb-4e92-9cce-ccf3e192e568",
   "metadata": {},
   "outputs": [],
   "source": [
    "#importamos las librerias necesarias\n",
    "import matplotlib.pyplot as plt\n",
    "import pandas as pd\n",
    "import seaborn as sns\n",
    "from sklearn.preprocessing import StandardScaler,MinMaxScaler,LabelEncoder\n",
    "import numpy as np\n",
    "import seaborn as sea"
   ]
  },
  {
   "cell_type": "code",
   "execution_count": 7,
   "id": "3e8c98e3-df49-4667-8bc1-7b7fd7d12761",
   "metadata": {},
   "outputs": [],
   "source": [
    "# Cargar el archivo CSV\n",
    "file_path = \"Impact_of_Remote_Work_on_Mental_Health 2.csv\"\n",
    "df = pd.read_csv(file_path)"
   ]
  },
  {
   "cell_type": "code",
   "execution_count": 8,
   "id": "9cb8ec16-f519-412b-953e-698063a5bad6",
   "metadata": {},
   "outputs": [],
   "source": [
    "# Corregir inconsistencias en las columnas categóricas\n",
    "def clean_text(value):\n",
    "    if isinstance(value, str):\n",
    "        return value.strip().capitalize()\n",
    "    return value\n",
    "\n",
    "df['Gender'] = df['Gender'].apply(lambda x: clean_text(x).replace(\"M\", \"Male\").replace(\"F\", \"Female\"))\n",
    "df['Physical_Activity'] = df['Physical_Activity'].apply(lambda x: clean_text(x))\n",
    "df['Productivity_Change'] = df['Productivity_Change'].apply(lambda x: clean_text(x).replace(\"No change\", \"No Change\"))"
   ]
  },
  {
   "cell_type": "code",
   "execution_count": 9,
   "id": "b73cb85b-57d5-44e3-84cb-cc162ae4481c",
   "metadata": {},
   "outputs": [],
   "source": [
    "# Crear categorías para niveles de estrés y aislamiento social\n",
    "def categorize_stress_level(value):\n",
    "    if value <= 2:\n",
    "        return \"Low\"\n",
    "    elif value <= 4:\n",
    "        return \"Medium\"\n",
    "    else:\n",
    "        return \"High\"\n",
    "\n",
    "df['Stress_Level_Category'] = df['Work_Life_Balance_Rating'].apply(categorize_stress_level)\n",
    "\n",
    "def categorize_social_isolation(value):\n",
    "    if value <= 2:\n",
    "        return \"Low\"\n",
    "    elif value <= 4:\n",
    "        return \"Medium\"\n",
    "    else:\n",
    "        return \"High\"\n",
    "\n",
    "df['Social_Isolation_Category'] = df['Social_Isolation_Rating'].apply(categorize_social_isolation)"
   ]
  },
  {
   "cell_type": "code",
   "execution_count": 10,
   "id": "3ca267d2-22e2-49e2-a7fd-5c738c624147",
   "metadata": {},
   "outputs": [],
   "source": [
    "# Eliminar filas duplicadas\n",
    "df.drop_duplicates(inplace=True)"
   ]
  },
  {
   "cell_type": "code",
   "execution_count": 11,
   "id": "f90ab0fd-998a-489e-a3cf-7be3fee766c5",
   "metadata": {},
   "outputs": [],
   "source": [
    "# Filtrar valores extremos en horas trabajadas por semana\n",
    "q1 = df['Hours_Worked_Per_Week'].quantile(0.25)\n",
    "q3 = df['Hours_Worked_Per_Week'].quantile(0.75)\n",
    "iqr = q3 - q1\n",
    "lower_bound = q1 - 1.5 * iqr\n",
    "upper_bound = q3 + 1.5 * iqr\n",
    "df = df[(df['Hours_Worked_Per_Week'] >= lower_bound) & (df['Hours_Worked_Per_Week'] <= upper_bound)]"
   ]
  },
  {
   "cell_type": "code",
   "execution_count": 12,
   "id": "8c377d62-182c-44b0-a2b2-d37819d50a88",
   "metadata": {},
   "outputs": [],
   "source": [
    "# Normalización de variables numéricas\n",
    "scaler = StandardScaler()\n",
    "variables_to_normalize = [\n",
    "    \"Hours_Worked_Per_Week\",\n",
    "    \"Number_of_Virtual_Meetings\",\n",
    "    \"Work_Life_Balance_Rating\"\n",
    "]\n",
    "df_normalized = df.copy()\n",
    "df_normalized[variables_to_normalize] = scaler.fit_transform(df[variables_to_normalize])\n"
   ]
  },
  {
   "cell_type": "code",
   "execution_count": 14,
   "id": "892b94fb-1a6a-4e9d-ad97-051b4dbf182f",
   "metadata": {},
   "outputs": [
    {
     "name": "stdout",
     "output_type": "stream",
     "text": [
      "Archivo limpio y transformado guardado en: Impact_of_Remote_Work_Cleaned.csv\n"
     ]
    }
   ],
   "source": [
    "# Guardar el archivo limpio y transformado para Tableau\n",
    "output_path = \"Impact_of_Remote_Work_Cleaned.csv\"\n",
    "df.to_csv(output_path, index=False)\n",
    "\n",
    "print(\"Archivo limpio y transformado guardado en:\", output_path)"
   ]
  },
  {
   "cell_type": "code",
   "execution_count": null,
   "id": "c3b8448b-d711-4a33-b949-f5d904c04a5c",
   "metadata": {},
   "outputs": [],
   "source": []
  },
  {
   "cell_type": "code",
   "execution_count": null,
   "id": "0091edeb-f42e-4fb0-9c0f-6f208a04f136",
   "metadata": {},
   "outputs": [],
   "source": []
  }
 ],
 "metadata": {
  "kernelspec": {
   "display_name": "Python 3 (ipykernel)",
   "language": "python",
   "name": "python3"
  },
  "language_info": {
   "codemirror_mode": {
    "name": "ipython",
    "version": 3
   },
   "file_extension": ".py",
   "mimetype": "text/x-python",
   "name": "python",
   "nbconvert_exporter": "python",
   "pygments_lexer": "ipython3",
   "version": "3.11.7"
  }
 },
 "nbformat": 4,
 "nbformat_minor": 5
}
